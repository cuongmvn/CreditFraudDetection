{
 "cells": [
  {
   "cell_type": "code",
   "execution_count": 1,
   "id": "6f134f4d",
   "metadata": {
    "_cell_guid": "b1076dfc-b9ad-4769-8c92-a6c4dae69d19",
    "_uuid": "8f2839f25d086af736a60e9eeb907d3b93b6e0e5",
    "execution": {
     "iopub.execute_input": "2022-06-11T13:37:55.405830Z",
     "iopub.status.busy": "2022-06-11T13:37:55.405328Z",
     "iopub.status.idle": "2022-06-11T13:37:56.423091Z",
     "shell.execute_reply": "2022-06-11T13:37:56.421561Z"
    },
    "papermill": {
     "duration": 1.029174,
     "end_time": "2022-06-11T13:37:56.425378",
     "exception": false,
     "start_time": "2022-06-11T13:37:55.396204",
     "status": "completed"
    },
    "tags": []
   },
   "outputs": [],
   "source": [
    "import numpy as np # linear algebra\n",
    "import pandas as pd # data processing, CSV file I/O (e.g. pd.read_csv)\n",
    "import matplotlib.pyplot as plt\n",
    "import os\n",
    "import seaborn as sns\n",
    "from statsmodels.tsa.stattools import adfuller"
   ]
  },
  {
   "cell_type": "code",
   "execution_count": 2,
   "id": "ad8fbadd",
   "metadata": {
    "execution": {
     "iopub.execute_input": "2022-06-11T13:37:56.441681Z",
     "iopub.status.busy": "2022-06-11T13:37:56.441007Z",
     "iopub.status.idle": "2022-06-11T13:37:59.759658Z",
     "shell.execute_reply": "2022-06-11T13:37:59.758762Z"
    },
    "papermill": {
     "duration": 3.325274,
     "end_time": "2022-06-11T13:37:59.761795",
     "exception": false,
     "start_time": "2022-06-11T13:37:56.436521",
     "status": "completed"
    },
    "tags": []
   },
   "outputs": [],
   "source": [
    "#Load Data\n",
    "df = pd.read_csv(\"../data/creditcard.csv\")"
   ]
  },
  {
   "cell_type": "code",
   "execution_count": 3,
   "id": "ad3172e2",
   "metadata": {
    "execution": {
     "iopub.execute_input": "2022-06-11T13:37:59.770995Z",
     "iopub.status.busy": "2022-06-11T13:37:59.770343Z",
     "iopub.status.idle": "2022-06-11T13:37:59.801044Z",
     "shell.execute_reply": "2022-06-11T13:37:59.799970Z"
    },
    "papermill": {
     "duration": 0.037594,
     "end_time": "2022-06-11T13:37:59.803323",
     "exception": false,
     "start_time": "2022-06-11T13:37:59.765729",
     "status": "completed"
    },
    "tags": []
   },
   "outputs": [
    {
     "data": {
      "text/html": [
       "<div>\n",
       "<style scoped>\n",
       "    .dataframe tbody tr th:only-of-type {\n",
       "        vertical-align: middle;\n",
       "    }\n",
       "\n",
       "    .dataframe tbody tr th {\n",
       "        vertical-align: top;\n",
       "    }\n",
       "\n",
       "    .dataframe thead th {\n",
       "        text-align: right;\n",
       "    }\n",
       "</style>\n",
       "<table border=\"1\" class=\"dataframe\">\n",
       "  <thead>\n",
       "    <tr style=\"text-align: right;\">\n",
       "      <th></th>\n",
       "      <th>Time</th>\n",
       "      <th>V1</th>\n",
       "      <th>V2</th>\n",
       "      <th>V3</th>\n",
       "      <th>V4</th>\n",
       "      <th>V5</th>\n",
       "      <th>V6</th>\n",
       "      <th>V7</th>\n",
       "      <th>V8</th>\n",
       "      <th>V9</th>\n",
       "      <th>...</th>\n",
       "      <th>V21</th>\n",
       "      <th>V22</th>\n",
       "      <th>V23</th>\n",
       "      <th>V24</th>\n",
       "      <th>V25</th>\n",
       "      <th>V26</th>\n",
       "      <th>V27</th>\n",
       "      <th>V28</th>\n",
       "      <th>Amount</th>\n",
       "      <th>Class</th>\n",
       "    </tr>\n",
       "  </thead>\n",
       "  <tbody>\n",
       "    <tr>\n",
       "      <th>0</th>\n",
       "      <td>0.0</td>\n",
       "      <td>-1.359807</td>\n",
       "      <td>-0.072781</td>\n",
       "      <td>2.536347</td>\n",
       "      <td>1.378155</td>\n",
       "      <td>-0.338321</td>\n",
       "      <td>0.462388</td>\n",
       "      <td>0.239599</td>\n",
       "      <td>0.098698</td>\n",
       "      <td>0.363787</td>\n",
       "      <td>...</td>\n",
       "      <td>-0.018307</td>\n",
       "      <td>0.277838</td>\n",
       "      <td>-0.110474</td>\n",
       "      <td>0.066928</td>\n",
       "      <td>0.128539</td>\n",
       "      <td>-0.189115</td>\n",
       "      <td>0.133558</td>\n",
       "      <td>-0.021053</td>\n",
       "      <td>149.62</td>\n",
       "      <td>0</td>\n",
       "    </tr>\n",
       "    <tr>\n",
       "      <th>1</th>\n",
       "      <td>0.0</td>\n",
       "      <td>1.191857</td>\n",
       "      <td>0.266151</td>\n",
       "      <td>0.166480</td>\n",
       "      <td>0.448154</td>\n",
       "      <td>0.060018</td>\n",
       "      <td>-0.082361</td>\n",
       "      <td>-0.078803</td>\n",
       "      <td>0.085102</td>\n",
       "      <td>-0.255425</td>\n",
       "      <td>...</td>\n",
       "      <td>-0.225775</td>\n",
       "      <td>-0.638672</td>\n",
       "      <td>0.101288</td>\n",
       "      <td>-0.339846</td>\n",
       "      <td>0.167170</td>\n",
       "      <td>0.125895</td>\n",
       "      <td>-0.008983</td>\n",
       "      <td>0.014724</td>\n",
       "      <td>2.69</td>\n",
       "      <td>0</td>\n",
       "    </tr>\n",
       "    <tr>\n",
       "      <th>2</th>\n",
       "      <td>1.0</td>\n",
       "      <td>-1.358354</td>\n",
       "      <td>-1.340163</td>\n",
       "      <td>1.773209</td>\n",
       "      <td>0.379780</td>\n",
       "      <td>-0.503198</td>\n",
       "      <td>1.800499</td>\n",
       "      <td>0.791461</td>\n",
       "      <td>0.247676</td>\n",
       "      <td>-1.514654</td>\n",
       "      <td>...</td>\n",
       "      <td>0.247998</td>\n",
       "      <td>0.771679</td>\n",
       "      <td>0.909412</td>\n",
       "      <td>-0.689281</td>\n",
       "      <td>-0.327642</td>\n",
       "      <td>-0.139097</td>\n",
       "      <td>-0.055353</td>\n",
       "      <td>-0.059752</td>\n",
       "      <td>378.66</td>\n",
       "      <td>0</td>\n",
       "    </tr>\n",
       "    <tr>\n",
       "      <th>3</th>\n",
       "      <td>1.0</td>\n",
       "      <td>-0.966272</td>\n",
       "      <td>-0.185226</td>\n",
       "      <td>1.792993</td>\n",
       "      <td>-0.863291</td>\n",
       "      <td>-0.010309</td>\n",
       "      <td>1.247203</td>\n",
       "      <td>0.237609</td>\n",
       "      <td>0.377436</td>\n",
       "      <td>-1.387024</td>\n",
       "      <td>...</td>\n",
       "      <td>-0.108300</td>\n",
       "      <td>0.005274</td>\n",
       "      <td>-0.190321</td>\n",
       "      <td>-1.175575</td>\n",
       "      <td>0.647376</td>\n",
       "      <td>-0.221929</td>\n",
       "      <td>0.062723</td>\n",
       "      <td>0.061458</td>\n",
       "      <td>123.50</td>\n",
       "      <td>0</td>\n",
       "    </tr>\n",
       "    <tr>\n",
       "      <th>4</th>\n",
       "      <td>2.0</td>\n",
       "      <td>-1.158233</td>\n",
       "      <td>0.877737</td>\n",
       "      <td>1.548718</td>\n",
       "      <td>0.403034</td>\n",
       "      <td>-0.407193</td>\n",
       "      <td>0.095921</td>\n",
       "      <td>0.592941</td>\n",
       "      <td>-0.270533</td>\n",
       "      <td>0.817739</td>\n",
       "      <td>...</td>\n",
       "      <td>-0.009431</td>\n",
       "      <td>0.798278</td>\n",
       "      <td>-0.137458</td>\n",
       "      <td>0.141267</td>\n",
       "      <td>-0.206010</td>\n",
       "      <td>0.502292</td>\n",
       "      <td>0.219422</td>\n",
       "      <td>0.215153</td>\n",
       "      <td>69.99</td>\n",
       "      <td>0</td>\n",
       "    </tr>\n",
       "  </tbody>\n",
       "</table>\n",
       "<p>5 rows × 31 columns</p>\n",
       "</div>"
      ],
      "text/plain": [
       "   Time        V1        V2        V3        V4        V5        V6        V7  \\\n",
       "0   0.0 -1.359807 -0.072781  2.536347  1.378155 -0.338321  0.462388  0.239599   \n",
       "1   0.0  1.191857  0.266151  0.166480  0.448154  0.060018 -0.082361 -0.078803   \n",
       "2   1.0 -1.358354 -1.340163  1.773209  0.379780 -0.503198  1.800499  0.791461   \n",
       "3   1.0 -0.966272 -0.185226  1.792993 -0.863291 -0.010309  1.247203  0.237609   \n",
       "4   2.0 -1.158233  0.877737  1.548718  0.403034 -0.407193  0.095921  0.592941   \n",
       "\n",
       "         V8        V9  ...       V21       V22       V23       V24       V25  \\\n",
       "0  0.098698  0.363787  ... -0.018307  0.277838 -0.110474  0.066928  0.128539   \n",
       "1  0.085102 -0.255425  ... -0.225775 -0.638672  0.101288 -0.339846  0.167170   \n",
       "2  0.247676 -1.514654  ...  0.247998  0.771679  0.909412 -0.689281 -0.327642   \n",
       "3  0.377436 -1.387024  ... -0.108300  0.005274 -0.190321 -1.175575  0.647376   \n",
       "4 -0.270533  0.817739  ... -0.009431  0.798278 -0.137458  0.141267 -0.206010   \n",
       "\n",
       "        V26       V27       V28  Amount  Class  \n",
       "0 -0.189115  0.133558 -0.021053  149.62      0  \n",
       "1  0.125895 -0.008983  0.014724    2.69      0  \n",
       "2 -0.139097 -0.055353 -0.059752  378.66      0  \n",
       "3 -0.221929  0.062723  0.061458  123.50      0  \n",
       "4  0.502292  0.219422  0.215153   69.99      0  \n",
       "\n",
       "[5 rows x 31 columns]"
      ]
     },
     "execution_count": 3,
     "metadata": {},
     "output_type": "execute_result"
    }
   ],
   "source": [
    "df.head(5)"
   ]
  },
  {
   "cell_type": "code",
   "execution_count": 4,
   "id": "4c5aeb3a",
   "metadata": {},
   "outputs": [
    {
     "data": {
      "text/plain": [
       "<AxesSubplot:>"
      ]
     },
     "execution_count": 4,
     "metadata": {},
     "output_type": "execute_result"
    },
    {
     "data": {
      "image/png": "[encoded data removed]",
      "text/plain": [
       "<Figure size 864x576 with 2 Axes>"
      ]
     },
     "metadata": {
      "needs_background": "light"
     },
     "output_type": "display_data"
    }
   ],
   "source": [
    "plt.figure(figsize=(12,8))\n",
    "sns.heatmap(df.corr())"
   ]
  },
  {
   "cell_type": "code",
   "execution_count": 5,
   "id": "f7c24078",
   "metadata": {
    "execution": {
     "iopub.execute_input": "2022-06-11T13:37:59.812267Z",
     "iopub.status.busy": "2022-06-11T13:37:59.812009Z",
     "iopub.status.idle": "2022-06-11T13:37:59.850838Z",
     "shell.execute_reply": "2022-06-11T13:37:59.850022Z"
    },
    "papermill": {
     "duration": 0.045688,
     "end_time": "2022-06-11T13:37:59.852982",
     "exception": false,
     "start_time": "2022-06-11T13:37:59.807294",
     "status": "completed"
    },
    "tags": []
   },
   "outputs": [],
   "source": [
    "anomalies = df[df[\"Class\"]==1]\n",
    "no_anomalies = df[df[\"Class\"]==0]"
   ]
  },
  {
   "cell_type": "code",
   "execution_count": 6,
   "id": "874eba6f",
   "metadata": {
    "execution": {
     "iopub.execute_input": "2022-06-11T13:37:59.862918Z",
     "iopub.status.busy": "2022-06-11T13:37:59.862612Z",
     "iopub.status.idle": "2022-06-11T13:37:59.867992Z",
     "shell.execute_reply": "2022-06-11T13:37:59.867202Z"
    },
    "papermill": {
     "duration": 0.013038,
     "end_time": "2022-06-11T13:37:59.870692",
     "exception": false,
     "start_time": "2022-06-11T13:37:59.857654",
     "status": "completed"
    },
    "tags": []
   },
   "outputs": [
    {
     "data": {
      "text/plain": [
       "(492, 31)"
      ]
     },
     "execution_count": 6,
     "metadata": {},
     "output_type": "execute_result"
    }
   ],
   "source": [
    "anomalies.shape"
   ]
  },
  {
   "cell_type": "code",
   "execution_count": 7,
   "id": "04c94e49",
   "metadata": {
    "execution": {
     "iopub.execute_input": "2022-06-11T13:37:59.879777Z",
     "iopub.status.busy": "2022-06-11T13:37:59.879531Z",
     "iopub.status.idle": "2022-06-11T13:37:59.884033Z",
     "shell.execute_reply": "2022-06-11T13:37:59.883351Z"
    },
    "papermill": {
     "duration": 0.010972,
     "end_time": "2022-06-11T13:37:59.885773",
     "exception": false,
     "start_time": "2022-06-11T13:37:59.874801",
     "status": "completed"
    },
    "tags": []
   },
   "outputs": [
    {
     "data": {
      "text/plain": [
       "(284315, 31)"
      ]
     },
     "execution_count": 7,
     "metadata": {},
     "output_type": "execute_result"
    }
   ],
   "source": [
    "no_anomalies.shape"
   ]
  },
  {
   "cell_type": "code",
   "execution_count": 8,
   "id": "2b755730",
   "metadata": {
    "execution": {
     "iopub.execute_input": "2022-06-11T13:37:59.895113Z",
     "iopub.status.busy": "2022-06-11T13:37:59.894725Z",
     "iopub.status.idle": "2022-06-11T13:37:59.901284Z",
     "shell.execute_reply": "2022-06-11T13:37:59.900463Z"
    },
    "papermill": {
     "duration": 0.013502,
     "end_time": "2022-06-11T13:37:59.903403",
     "exception": false,
     "start_time": "2022-06-11T13:37:59.889901",
     "status": "completed"
    },
    "tags": []
   },
   "outputs": [
    {
     "name": "stdout",
     "output_type": "stream",
     "text": [
      "number of samples : 284807\n",
      "number of anomalies :  492\n"
     ]
    }
   ],
   "source": [
    "print(\"number of samples :\", df.shape[0])\n",
    "print(\"number of anomalies : \", anomalies.shape[0])"
   ]
  },
  {
   "cell_type": "code",
   "execution_count": 9,
   "id": "2c27a96a",
   "metadata": {},
   "outputs": [
    {
     "data": {
      "text/plain": [
       "0.001727485630620034"
      ]
     },
     "execution_count": 9,
     "metadata": {},
     "output_type": "execute_result"
    }
   ],
   "source": [
    "con_rate = anomalies.shape[0]/df.shape[0]\n",
    "con_rate"
   ]
  },
  {
   "cell_type": "code",
   "execution_count": 10,
   "id": "5201b103",
   "metadata": {},
   "outputs": [],
   "source": [
    "X = df.drop(columns = ['Class']).to_numpy()"
   ]
  },
  {
   "cell_type": "code",
   "execution_count": 11,
   "id": "c9adbde8",
   "metadata": {},
   "outputs": [],
   "source": [
    "y = df['Class'].to_numpy().flatten()"
   ]
  },
  {
   "cell_type": "code",
   "execution_count": 12,
   "id": "a93a962c",
   "metadata": {},
   "outputs": [],
   "source": [
    "df_X = df.drop(columns = ['Class'])"
   ]
  },
  {
   "cell_type": "code",
   "execution_count": 13,
   "id": "78f56fad",
   "metadata": {},
   "outputs": [],
   "source": [
    "def get_hour_data(df, hours):\n",
    "    _ = df[df[\"Time\"]>3600*hours]\n",
    "    _ = _[_[\"Time\"]<3600*(hours+1)]\n",
    "    \n",
    "    X = _.drop(columns = ['Class']).to_numpy()\n",
    "    y = _['Class'].to_numpy().flatten()\n",
    "    return X, y"
   ]
  },
  {
   "cell_type": "code",
   "execution_count": 14,
   "id": "5734dc10",
   "metadata": {},
   "outputs": [],
   "source": [
    "def get_hour_rate(df, hours):\n",
    "    _ = df[df[\"Time\"]>3600*hours]\n",
    "    _ = _[_[\"Time\"]<3600*(hours+1)]\n",
    "    anomalies = _[_[\"Class\"]==1]\n",
    "    con_rate = anomalies.shape[0]/_.shape[0]\n",
    "    return con_rate"
   ]
  },
  {
   "cell_type": "code",
   "execution_count": 15,
   "id": "ec552b8e",
   "metadata": {},
   "outputs": [],
   "source": [
    "rate = []\n",
    "for i in range(48):\n",
    "    rate.append(get_hour_rate(df, i))"
   ]
  },
  {
   "cell_type": "code",
   "execution_count": 16,
   "id": "989d42f4",
   "metadata": {},
   "outputs": [
    {
     "data": {
      "text/plain": [
       "[0.0005049229992426155,\n",
       " 0.0009025270758122744,\n",
       " 0.013341804320203304,\n",
       " 0.007138934651290499,\n",
       " 0.005545286506469501,\n",
       " 0.006543723973825104,\n",
       " 0.0016384489350081922,\n",
       " 0.006831006831006831,\n",
       " 0.0009654373431164317,\n",
       " 0.001904036557501904,\n",
       " 0.00024131274131274132,\n",
       " 0.005050505050505051,\n",
       " 0.001164746991070273,\n",
       " 0.0011867088607594937,\n",
       " 0.001619735858460005,\n",
       " 0.0017870819504723003,\n",
       " 0.0017985611510791368,\n",
       " 0.0015232292460015233,\n",
       " 0.0017429700209156402,\n",
       " 0.00087576629550857,\n",
       " 0.0008911663139133341,\n",
       " 0.0014154281670205238,\n",
       " 0.00033437360677663843,\n",
       " 0.002795592830126624,\n",
       " 0.0010720986330742428,\n",
       " 0.00399400898652022,\n",
       " 0.020559680182752713,\n",
       " 0.0023952095808383233,\n",
       " 0.015111111111111112,\n",
       " 0.0,\n",
       " 0.002644336712208021,\n",
       " 0.0,\n",
       " 0.0007849293563579278,\n",
       " 0.0001256281407035176,\n",
       " 0.0007221954742416948,\n",
       " 0.0011994722322178242,\n",
       " 0.0010407180954858852,\n",
       " 0.0010285420416559527,\n",
       " 0.0011710973181871414,\n",
       " 0.0013914656771799629,\n",
       " 0.000923041421483789,\n",
       " 0.002052644288819126,\n",
       " 0.0021354846363744215,\n",
       " 0.0015676028739386022,\n",
       " 0.001286008230452675,\n",
       " 0.00025614754098360657,\n",
       " 0.0009287925696594427,\n",
       " 0.0008237232289950577]"
      ]
     },
     "execution_count": 16,
     "metadata": {},
     "output_type": "execute_result"
    }
   ],
   "source": [
    "rate"
   ]
  },
  {
   "cell_type": "code",
   "execution_count": 17,
   "id": "ba0bc4b0",
   "metadata": {},
   "outputs": [],
   "source": [
    "from sklearn.neighbors import LocalOutlierFactor"
   ]
  },
  {
   "cell_type": "code",
   "execution_count": 18,
   "id": "a8f0d01d",
   "metadata": {},
   "outputs": [],
   "source": [
    "y_true =[]\n",
    "y_pred = np.array([])\n",
    "for i in range(24):\n",
    "    clf = LocalOutlierFactor(n_neighbors=5, \n",
    "                             algorithm='auto', \n",
    "                             leaf_size=30, \n",
    "                             metric='minkowski',\n",
    "                             p=2,\n",
    "                             metric_params=None,\n",
    "                             contamination=rate[i]*10)\n",
    "    X, y = get_hour_data(df, i)\n",
    "    y_true = np.concatenate((y_true, y), axis=None)\n",
    "    y_pred_temp = clf.fit_predict(X)    \n",
    "    y_pred = np.concatenate((y_pred, y_pred_temp), axis=None)"
   ]
  },
  {
   "cell_type": "code",
   "execution_count": 19,
   "id": "1604f1a8",
   "metadata": {},
   "outputs": [
    {
     "data": {
      "text/plain": [
       "2815"
      ]
     },
     "execution_count": 19,
     "metadata": {},
     "output_type": "execute_result"
    }
   ],
   "source": [
    "from sklearn.metrics import classification_report, accuracy_score\n",
    "y_pred[y_pred == 1] = 0 # Valid transactions are labelled as 0.\n",
    "y_pred[y_pred == -1] = 1 # Fraudulent transactions are labelled as 1.\n",
    "errors = (y_pred != y_true).sum() # Total number of errors is calculated.\n",
    "errors"
   ]
  },
  {
   "cell_type": "code",
   "execution_count": 20,
   "id": "c1737173",
   "metadata": {},
   "outputs": [
    {
     "name": "stdout",
     "output_type": "stream",
     "text": [
      "              precision    recall  f1-score   support\n",
      "\n",
      "         0.0       0.98      1.00      0.99    141935\n",
      "         1.0       0.49      0.05      0.09      2810\n",
      "\n",
      "    accuracy                           0.98    144745\n",
      "   macro avg       0.74      0.52      0.54    144745\n",
      "weighted avg       0.97      0.98      0.97    144745\n",
      "\n"
     ]
    }
   ],
   "source": [
    "print(classification_report(y_pred,y_true))"
   ]
  },
  {
   "cell_type": "code",
   "execution_count": 21,
   "id": "a83a2869",
   "metadata": {},
   "outputs": [
    {
     "data": {
      "text/plain": [
       "array([[141792,   2672],\n",
       "       [   143,    138]], dtype=int64)"
      ]
     },
     "execution_count": 21,
     "metadata": {},
     "output_type": "execute_result"
    }
   ],
   "source": [
    "from sklearn.metrics import confusion_matrix\n",
    "confusion_matrix(y_true, y_pred)"
   ]
  },
  {
   "cell_type": "code",
   "execution_count": 22,
   "id": "7b762044",
   "metadata": {},
   "outputs": [
    {
     "data": {
      "text/plain": [
       "281.0"
      ]
     },
     "execution_count": 22,
     "metadata": {},
     "output_type": "execute_result"
    }
   ],
   "source": [
    "sum(y_true)"
   ]
  },
  {
   "cell_type": "code",
   "execution_count": 23,
   "id": "ae12d7c3",
   "metadata": {},
   "outputs": [],
   "source": [
    "y_true =[]\n",
    "y_pred = np.array([])\n",
    "for i in range(24):\n",
    "    clf = LocalOutlierFactor(n_neighbors=5, \n",
    "                             algorithm='auto', \n",
    "                             leaf_size=30, \n",
    "                             metric='minkowski',\n",
    "                             p=2,\n",
    "                             metric_params=None,\n",
    "                             contamination=max(rate[i+24],0.0001)*10)\n",
    "    X, y = get_hour_data(df, i+24)\n",
    "    y_true = np.concatenate((y_true, y), axis=None)\n",
    "    y_pred_temp = clf.fit_predict(X)    \n",
    "    y_pred = np.concatenate((y_pred, y_pred_temp), axis=None)"
   ]
  },
  {
   "cell_type": "code",
   "execution_count": 24,
   "id": "7e6d8e17",
   "metadata": {},
   "outputs": [
    {
     "name": "stdout",
     "output_type": "stream",
     "text": [
      "2154\n"
     ]
    }
   ],
   "source": [
    "y_pred[y_pred == 1] = 0 # Valid transactions are labelled as 0.\n",
    "y_pred[y_pred == -1] = 1 # Fraudulent transactions are labelled as 1.\n",
    "errors1 = (y_pred != y_true).sum() # Total number of errors is calculated.\n",
    "print(errors1)"
   ]
  },
  {
   "cell_type": "code",
   "execution_count": 25,
   "id": "449cb467",
   "metadata": {},
   "outputs": [
    {
     "data": {
      "text/plain": [
       "array([[137753,   2029],\n",
       "       [   125,     86]], dtype=int64)"
      ]
     },
     "execution_count": 25,
     "metadata": {},
     "output_type": "execute_result"
    }
   ],
   "source": [
    "confusion_matrix(y_true, y_pred)"
   ]
  },
  {
   "cell_type": "code",
   "execution_count": 26,
   "id": "9fe5602f",
   "metadata": {},
   "outputs": [
    {
     "name": "stdout",
     "output_type": "stream",
     "text": [
      "              precision    recall  f1-score   support\n",
      "\n",
      "         0.0       0.99      1.00      0.99    137878\n",
      "         1.0       0.41      0.04      0.07      2115\n",
      "\n",
      "    accuracy                           0.98    139993\n",
      "   macro avg       0.70      0.52      0.53    139993\n",
      "weighted avg       0.98      0.98      0.98    139993\n",
      "\n"
     ]
    }
   ],
   "source": [
    "print(classification_report(y_pred,y_true))"
   ]
  },
  {
   "cell_type": "code",
   "execution_count": null,
   "id": "eb82e7f2",
   "metadata": {},
   "outputs": [],
   "source": []
  }
 ],
 "metadata": {
  "kernelspec": {
   "display_name": "Python 3",
   "language": "python",
   "name": "python3"
  },
  "language_info": {
   "codemirror_mode": {
    "name": "ipython",
    "version": 3
   },
   "file_extension": ".py",
   "mimetype": "text/x-python",
   "name": "python",
   "nbconvert_exporter": "python",
   "pygments_lexer": "ipython3",
   "version": "3.8.8"
  },
  "papermill": {
   "default_parameters": {},
   "duration": 189.541266,
   "end_time": "2022-06-11T13:40:56.811401",
   "environment_variables": {},
   "exception": null,
   "input_path": "__notebook__.ipynb",
   "output_path": "__notebook__.ipynb",
   "parameters": {},
   "start_time": "2022-06-11T13:37:47.270135",
   "version": "2.3.4"
  }
 },
 "nbformat": 4,
 "nbformat_minor": 5
}
