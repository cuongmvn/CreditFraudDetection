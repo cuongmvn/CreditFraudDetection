{
 "cells": [
  {
   "cell_type": "code",
   "execution_count": 1,
   "id": "6f134f4d",
   "metadata": {
    "_cell_guid": "b1076dfc-b9ad-4769-8c92-a6c4dae69d19",
    "_uuid": "8f2839f25d086af736a60e9eeb907d3b93b6e0e5",
    "execution": {
     "iopub.execute_input": "2022-06-11T13:37:55.405830Z",
     "iopub.status.busy": "2022-06-11T13:37:55.405328Z",
     "iopub.status.idle": "2022-06-11T13:37:56.423091Z",
     "shell.execute_reply": "2022-06-11T13:37:56.421561Z"
    },
    "papermill": {
     "duration": 1.029174,
     "end_time": "2022-06-11T13:37:56.425378",
     "exception": false,
     "start_time": "2022-06-11T13:37:55.396204",
     "status": "completed"
    },
    "tags": []
   },
   "outputs": [],
   "source": [
    "import numpy as np # linear algebra\n",
    "import pandas as pd # data processing, CSV file I/O (e.g. pd.read_csv)\n",
    "import matplotlib.pyplot as plt\n",
    "import os\n",
    "import seaborn as sns\n",
    "from statsmodels.tsa.stattools import adfuller\n",
    "from sklearn.metrics import confusion_matrix,auc,roc_auc_score\n",
    "from sklearn.metrics import recall_score, precision_score, accuracy_score, f1_score\n",
    "from sklearn.model_selection import train_test_split\n",
    "from scipy.stats import multivariate_normal"
   ]
  },
  {
   "cell_type": "code",
   "execution_count": 2,
   "id": "ad8fbadd",
   "metadata": {
    "execution": {
     "iopub.execute_input": "2022-06-11T13:37:56.441681Z",
     "iopub.status.busy": "2022-06-11T13:37:56.441007Z",
     "iopub.status.idle": "2022-06-11T13:37:59.759658Z",
     "shell.execute_reply": "2022-06-11T13:37:59.758762Z"
    },
    "papermill": {
     "duration": 3.325274,
     "end_time": "2022-06-11T13:37:59.761795",
     "exception": false,
     "start_time": "2022-06-11T13:37:56.436521",
     "status": "completed"
    },
    "tags": []
   },
   "outputs": [],
   "source": [
    "#Load Data\n",
    "df = pd.read_csv(\"../data/creditcard.csv\")"
   ]
  },
  {
   "cell_type": "code",
   "execution_count": 3,
   "id": "ad3172e2",
   "metadata": {
    "execution": {
     "iopub.execute_input": "2022-06-11T13:37:59.770995Z",
     "iopub.status.busy": "2022-06-11T13:37:59.770343Z",
     "iopub.status.idle": "2022-06-11T13:37:59.801044Z",
     "shell.execute_reply": "2022-06-11T13:37:59.799970Z"
    },
    "papermill": {
     "duration": 0.037594,
     "end_time": "2022-06-11T13:37:59.803323",
     "exception": false,
     "start_time": "2022-06-11T13:37:59.765729",
     "status": "completed"
    },
    "tags": []
   },
   "outputs": [
    {
     "data": {
      "text/html": [
       "<div>\n",
       "<style scoped>\n",
       "    .dataframe tbody tr th:only-of-type {\n",
       "        vertical-align: middle;\n",
       "    }\n",
       "\n",
       "    .dataframe tbody tr th {\n",
       "        vertical-align: top;\n",
       "    }\n",
       "\n",
       "    .dataframe thead th {\n",
       "        text-align: right;\n",
       "    }\n",
       "</style>\n",
       "<table border=\"1\" class=\"dataframe\">\n",
       "  <thead>\n",
       "    <tr style=\"text-align: right;\">\n",
       "      <th></th>\n",
       "      <th>Time</th>\n",
       "      <th>V1</th>\n",
       "      <th>V2</th>\n",
       "      <th>V3</th>\n",
       "      <th>V4</th>\n",
       "      <th>V5</th>\n",
       "      <th>V6</th>\n",
       "      <th>V7</th>\n",
       "      <th>V8</th>\n",
       "      <th>V9</th>\n",
       "      <th>...</th>\n",
       "      <th>V21</th>\n",
       "      <th>V22</th>\n",
       "      <th>V23</th>\n",
       "      <th>V24</th>\n",
       "      <th>V25</th>\n",
       "      <th>V26</th>\n",
       "      <th>V27</th>\n",
       "      <th>V28</th>\n",
       "      <th>Amount</th>\n",
       "      <th>Class</th>\n",
       "    </tr>\n",
       "  </thead>\n",
       "  <tbody>\n",
       "    <tr>\n",
       "      <th>0</th>\n",
       "      <td>0.0</td>\n",
       "      <td>-1.359807</td>\n",
       "      <td>-0.072781</td>\n",
       "      <td>2.536347</td>\n",
       "      <td>1.378155</td>\n",
       "      <td>-0.338321</td>\n",
       "      <td>0.462388</td>\n",
       "      <td>0.239599</td>\n",
       "      <td>0.098698</td>\n",
       "      <td>0.363787</td>\n",
       "      <td>...</td>\n",
       "      <td>-0.018307</td>\n",
       "      <td>0.277838</td>\n",
       "      <td>-0.110474</td>\n",
       "      <td>0.066928</td>\n",
       "      <td>0.128539</td>\n",
       "      <td>-0.189115</td>\n",
       "      <td>0.133558</td>\n",
       "      <td>-0.021053</td>\n",
       "      <td>149.62</td>\n",
       "      <td>0</td>\n",
       "    </tr>\n",
       "    <tr>\n",
       "      <th>1</th>\n",
       "      <td>0.0</td>\n",
       "      <td>1.191857</td>\n",
       "      <td>0.266151</td>\n",
       "      <td>0.166480</td>\n",
       "      <td>0.448154</td>\n",
       "      <td>0.060018</td>\n",
       "      <td>-0.082361</td>\n",
       "      <td>-0.078803</td>\n",
       "      <td>0.085102</td>\n",
       "      <td>-0.255425</td>\n",
       "      <td>...</td>\n",
       "      <td>-0.225775</td>\n",
       "      <td>-0.638672</td>\n",
       "      <td>0.101288</td>\n",
       "      <td>-0.339846</td>\n",
       "      <td>0.167170</td>\n",
       "      <td>0.125895</td>\n",
       "      <td>-0.008983</td>\n",
       "      <td>0.014724</td>\n",
       "      <td>2.69</td>\n",
       "      <td>0</td>\n",
       "    </tr>\n",
       "    <tr>\n",
       "      <th>2</th>\n",
       "      <td>1.0</td>\n",
       "      <td>-1.358354</td>\n",
       "      <td>-1.340163</td>\n",
       "      <td>1.773209</td>\n",
       "      <td>0.379780</td>\n",
       "      <td>-0.503198</td>\n",
       "      <td>1.800499</td>\n",
       "      <td>0.791461</td>\n",
       "      <td>0.247676</td>\n",
       "      <td>-1.514654</td>\n",
       "      <td>...</td>\n",
       "      <td>0.247998</td>\n",
       "      <td>0.771679</td>\n",
       "      <td>0.909412</td>\n",
       "      <td>-0.689281</td>\n",
       "      <td>-0.327642</td>\n",
       "      <td>-0.139097</td>\n",
       "      <td>-0.055353</td>\n",
       "      <td>-0.059752</td>\n",
       "      <td>378.66</td>\n",
       "      <td>0</td>\n",
       "    </tr>\n",
       "    <tr>\n",
       "      <th>3</th>\n",
       "      <td>1.0</td>\n",
       "      <td>-0.966272</td>\n",
       "      <td>-0.185226</td>\n",
       "      <td>1.792993</td>\n",
       "      <td>-0.863291</td>\n",
       "      <td>-0.010309</td>\n",
       "      <td>1.247203</td>\n",
       "      <td>0.237609</td>\n",
       "      <td>0.377436</td>\n",
       "      <td>-1.387024</td>\n",
       "      <td>...</td>\n",
       "      <td>-0.108300</td>\n",
       "      <td>0.005274</td>\n",
       "      <td>-0.190321</td>\n",
       "      <td>-1.175575</td>\n",
       "      <td>0.647376</td>\n",
       "      <td>-0.221929</td>\n",
       "      <td>0.062723</td>\n",
       "      <td>0.061458</td>\n",
       "      <td>123.50</td>\n",
       "      <td>0</td>\n",
       "    </tr>\n",
       "    <tr>\n",
       "      <th>4</th>\n",
       "      <td>2.0</td>\n",
       "      <td>-1.158233</td>\n",
       "      <td>0.877737</td>\n",
       "      <td>1.548718</td>\n",
       "      <td>0.403034</td>\n",
       "      <td>-0.407193</td>\n",
       "      <td>0.095921</td>\n",
       "      <td>0.592941</td>\n",
       "      <td>-0.270533</td>\n",
       "      <td>0.817739</td>\n",
       "      <td>...</td>\n",
       "      <td>-0.009431</td>\n",
       "      <td>0.798278</td>\n",
       "      <td>-0.137458</td>\n",
       "      <td>0.141267</td>\n",
       "      <td>-0.206010</td>\n",
       "      <td>0.502292</td>\n",
       "      <td>0.219422</td>\n",
       "      <td>0.215153</td>\n",
       "      <td>69.99</td>\n",
       "      <td>0</td>\n",
       "    </tr>\n",
       "  </tbody>\n",
       "</table>\n",
       "<p>5 rows × 31 columns</p>\n",
       "</div>"
      ],
      "text/plain": [
       "   Time        V1        V2        V3        V4        V5        V6        V7  \\\n",
       "0   0.0 -1.359807 -0.072781  2.536347  1.378155 -0.338321  0.462388  0.239599   \n",
       "1   0.0  1.191857  0.266151  0.166480  0.448154  0.060018 -0.082361 -0.078803   \n",
       "2   1.0 -1.358354 -1.340163  1.773209  0.379780 -0.503198  1.800499  0.791461   \n",
       "3   1.0 -0.966272 -0.185226  1.792993 -0.863291 -0.010309  1.247203  0.237609   \n",
       "4   2.0 -1.158233  0.877737  1.548718  0.403034 -0.407193  0.095921  0.592941   \n",
       "\n",
       "         V8        V9  ...       V21       V22       V23       V24       V25  \\\n",
       "0  0.098698  0.363787  ... -0.018307  0.277838 -0.110474  0.066928  0.128539   \n",
       "1  0.085102 -0.255425  ... -0.225775 -0.638672  0.101288 -0.339846  0.167170   \n",
       "2  0.247676 -1.514654  ...  0.247998  0.771679  0.909412 -0.689281 -0.327642   \n",
       "3  0.377436 -1.387024  ... -0.108300  0.005274 -0.190321 -1.175575  0.647376   \n",
       "4 -0.270533  0.817739  ... -0.009431  0.798278 -0.137458  0.141267 -0.206010   \n",
       "\n",
       "        V26       V27       V28  Amount  Class  \n",
       "0 -0.189115  0.133558 -0.021053  149.62      0  \n",
       "1  0.125895 -0.008983  0.014724    2.69      0  \n",
       "2 -0.139097 -0.055353 -0.059752  378.66      0  \n",
       "3 -0.221929  0.062723  0.061458  123.50      0  \n",
       "4  0.502292  0.219422  0.215153   69.99      0  \n",
       "\n",
       "[5 rows x 31 columns]"
      ]
     },
     "execution_count": 3,
     "metadata": {},
     "output_type": "execute_result"
    }
   ],
   "source": [
    "df.head(5)"
   ]
  },
  {
   "cell_type": "code",
   "execution_count": 4,
   "id": "4c5aeb3a",
   "metadata": {},
   "outputs": [
    {
     "data": {
      "text/plain": [
       "<AxesSubplot:>"
      ]
     },
     "execution_count": 4,
     "metadata": {},
     "output_type": "execute_result"
    },
    {
     "data": {
      "image/png": "[encoded data removed]",
      "text/plain": [
       "<Figure size 864x576 with 2 Axes>"
      ]
     },
     "metadata": {
      "needs_background": "light"
     },
     "output_type": "display_data"
    }
   ],
   "source": [
    "plt.figure(figsize=(12,8))\n",
    "sns.heatmap(df.corr())"
   ]
  },
  {
   "cell_type": "code",
   "execution_count": 5,
   "id": "f7c24078",
   "metadata": {
    "execution": {
     "iopub.execute_input": "2022-06-11T13:37:59.812267Z",
     "iopub.status.busy": "2022-06-11T13:37:59.812009Z",
     "iopub.status.idle": "2022-06-11T13:37:59.850838Z",
     "shell.execute_reply": "2022-06-11T13:37:59.850022Z"
    },
    "papermill": {
     "duration": 0.045688,
     "end_time": "2022-06-11T13:37:59.852982",
     "exception": false,
     "start_time": "2022-06-11T13:37:59.807294",
     "status": "completed"
    },
    "tags": []
   },
   "outputs": [],
   "source": [
    "anomalies = df[df[\"Class\"]==1]\n",
    "no_anomalies = df[df[\"Class\"]==0]"
   ]
  },
  {
   "cell_type": "code",
   "execution_count": 6,
   "id": "874eba6f",
   "metadata": {
    "execution": {
     "iopub.execute_input": "2022-06-11T13:37:59.862918Z",
     "iopub.status.busy": "2022-06-11T13:37:59.862612Z",
     "iopub.status.idle": "2022-06-11T13:37:59.867992Z",
     "shell.execute_reply": "2022-06-11T13:37:59.867202Z"
    },
    "papermill": {
     "duration": 0.013038,
     "end_time": "2022-06-11T13:37:59.870692",
     "exception": false,
     "start_time": "2022-06-11T13:37:59.857654",
     "status": "completed"
    },
    "tags": []
   },
   "outputs": [
    {
     "data": {
      "text/plain": [
       "(492, 31)"
      ]
     },
     "execution_count": 6,
     "metadata": {},
     "output_type": "execute_result"
    }
   ],
   "source": [
    "anomalies.shape"
   ]
  },
  {
   "cell_type": "code",
   "execution_count": 7,
   "id": "04c94e49",
   "metadata": {
    "execution": {
     "iopub.execute_input": "2022-06-11T13:37:59.879777Z",
     "iopub.status.busy": "2022-06-11T13:37:59.879531Z",
     "iopub.status.idle": "2022-06-11T13:37:59.884033Z",
     "shell.execute_reply": "2022-06-11T13:37:59.883351Z"
    },
    "papermill": {
     "duration": 0.010972,
     "end_time": "2022-06-11T13:37:59.885773",
     "exception": false,
     "start_time": "2022-06-11T13:37:59.874801",
     "status": "completed"
    },
    "tags": []
   },
   "outputs": [
    {
     "data": {
      "text/plain": [
       "(284315, 31)"
      ]
     },
     "execution_count": 7,
     "metadata": {},
     "output_type": "execute_result"
    }
   ],
   "source": [
    "no_anomalies.shape"
   ]
  },
  {
   "cell_type": "code",
   "execution_count": 8,
   "id": "2b755730",
   "metadata": {
    "execution": {
     "iopub.execute_input": "2022-06-11T13:37:59.895113Z",
     "iopub.status.busy": "2022-06-11T13:37:59.894725Z",
     "iopub.status.idle": "2022-06-11T13:37:59.901284Z",
     "shell.execute_reply": "2022-06-11T13:37:59.900463Z"
    },
    "papermill": {
     "duration": 0.013502,
     "end_time": "2022-06-11T13:37:59.903403",
     "exception": false,
     "start_time": "2022-06-11T13:37:59.889901",
     "status": "completed"
    },
    "tags": []
   },
   "outputs": [
    {
     "name": "stdout",
     "output_type": "stream",
     "text": [
      "number of samples : 284807\n",
      "number of anomalies :  492\n"
     ]
    }
   ],
   "source": [
    "print(\"number of samples :\", df.shape[0])\n",
    "print(\"number of anomalies : \", anomalies.shape[0])"
   ]
  },
  {
   "cell_type": "code",
   "execution_count": 9,
   "id": "2c27a96a",
   "metadata": {},
   "outputs": [
    {
     "data": {
      "text/plain": [
       "0.001727485630620034"
      ]
     },
     "execution_count": 9,
     "metadata": {},
     "output_type": "execute_result"
    }
   ],
   "source": [
    "con_rate = anomalies.shape[0]/df.shape[0]\n",
    "con_rate"
   ]
  },
  {
   "cell_type": "code",
   "execution_count": 10,
   "id": "5201b103",
   "metadata": {},
   "outputs": [],
   "source": [
    "X = df.drop(columns = ['Class']).to_numpy()"
   ]
  },
  {
   "cell_type": "code",
   "execution_count": 11,
   "id": "c9adbde8",
   "metadata": {},
   "outputs": [],
   "source": [
    "y = df['Class'].to_numpy().flatten()"
   ]
  },
  {
   "cell_type": "code",
   "execution_count": 12,
   "id": "a93a962c",
   "metadata": {},
   "outputs": [],
   "source": [
    "df_X = df.drop(columns = ['Class'])"
   ]
  },
  {
   "cell_type": "code",
   "execution_count": 13,
   "id": "78f56fad",
   "metadata": {},
   "outputs": [],
   "source": [
    "def get_hour_data(df, hours):\n",
    "    _ = df[df[\"Time\"]>3600*hours]\n",
    "    _ = _[_[\"Time\"]<3600*(hours+1)]\n",
    "    \n",
    "    X = _.drop(columns = ['Class']).to_numpy()\n",
    "    y = _['Class'].to_numpy().flatten()\n",
    "    return X, y"
   ]
  },
  {
   "cell_type": "code",
   "execution_count": 14,
   "id": "5734dc10",
   "metadata": {},
   "outputs": [],
   "source": [
    "def get_hour_rate(df, hours):\n",
    "    _ = df[df[\"Time\"]>3600*hours]\n",
    "    _ = _[_[\"Time\"]<3600*(hours+1)]\n",
    "    anomalies = _[_[\"Class\"]==1]\n",
    "    con_rate = anomalies.shape[0]/_.shape[0]\n",
    "    return con_rate"
   ]
  },
  {
   "cell_type": "code",
   "execution_count": 15,
   "id": "ec552b8e",
   "metadata": {},
   "outputs": [],
   "source": [
    "rate = []\n",
    "for i in range(48):\n",
    "    rate.append(get_hour_rate(df, i))"
   ]
  },
  {
   "cell_type": "code",
   "execution_count": 16,
   "id": "989d42f4",
   "metadata": {},
   "outputs": [
    {
     "data": {
      "text/plain": [
       "[0.0005049229992426155,\n",
       " 0.0009025270758122744,\n",
       " 0.013341804320203304,\n",
       " 0.007138934651290499,\n",
       " 0.005545286506469501,\n",
       " 0.006543723973825104,\n",
       " 0.0016384489350081922,\n",
       " 0.006831006831006831,\n",
       " 0.0009654373431164317,\n",
       " 0.001904036557501904,\n",
       " 0.00024131274131274132,\n",
       " 0.005050505050505051,\n",
       " 0.001164746991070273,\n",
       " 0.0011867088607594937,\n",
       " 0.001619735858460005,\n",
       " 0.0017870819504723003,\n",
       " 0.0017985611510791368,\n",
       " 0.0015232292460015233,\n",
       " 0.0017429700209156402,\n",
       " 0.00087576629550857,\n",
       " 0.0008911663139133341,\n",
       " 0.0014154281670205238,\n",
       " 0.00033437360677663843,\n",
       " 0.002795592830126624,\n",
       " 0.0010720986330742428,\n",
       " 0.00399400898652022,\n",
       " 0.020559680182752713,\n",
       " 0.0023952095808383233,\n",
       " 0.015111111111111112,\n",
       " 0.0,\n",
       " 0.002644336712208021,\n",
       " 0.0,\n",
       " 0.0007849293563579278,\n",
       " 0.0001256281407035176,\n",
       " 0.0007221954742416948,\n",
       " 0.0011994722322178242,\n",
       " 0.0010407180954858852,\n",
       " 0.0010285420416559527,\n",
       " 0.0011710973181871414,\n",
       " 0.0013914656771799629,\n",
       " 0.000923041421483789,\n",
       " 0.002052644288819126,\n",
       " 0.0021354846363744215,\n",
       " 0.0015676028739386022,\n",
       " 0.001286008230452675,\n",
       " 0.00025614754098360657,\n",
       " 0.0009287925696594427,\n",
       " 0.0008237232289950577]"
      ]
     },
     "execution_count": 16,
     "metadata": {},
     "output_type": "execute_result"
    }
   ],
   "source": [
    "rate"
   ]
  },
  {
   "cell_type": "code",
   "execution_count": 17,
   "id": "ba0bc4b0",
   "metadata": {},
   "outputs": [],
   "source": [
    "from sklearn.neighbors import LocalOutlierFactor"
   ]
  },
  {
   "cell_type": "code",
   "execution_count": 18,
   "id": "a8f0d01d",
   "metadata": {},
   "outputs": [],
   "source": [
    "y_true =[]\n",
    "y_pred = np.array([])\n",
    "for i in range(24):\n",
    "    clf = LocalOutlierFactor(n_neighbors=5, \n",
    "                             algorithm='auto', \n",
    "                             leaf_size=30, \n",
    "                             metric='minkowski',\n",
    "                             p=2,\n",
    "                             metric_params=None,\n",
    "                             contamination=rate[i]*10)\n",
    "    X, y = get_hour_data(df, i)\n",
    "    y_true = np.concatenate((y_true, y), axis=None)\n",
    "    y_pred_temp = clf.fit_predict(X)    \n",
    "    y_pred = np.concatenate((y_pred, y_pred_temp), axis=None)"
   ]
  },
  {
   "cell_type": "code",
   "execution_count": 19,
   "id": "1604f1a8",
   "metadata": {},
   "outputs": [
    {
     "data": {
      "text/plain": [
       "2815"
      ]
     },
     "execution_count": 19,
     "metadata": {},
     "output_type": "execute_result"
    }
   ],
   "source": [
    "from sklearn.metrics import classification_report, accuracy_score\n",
    "y_pred[y_pred == 1] = 0 # Valid transactions are labelled as 0.\n",
    "y_pred[y_pred == -1] = 1 # Fraudulent transactions are labelled as 1.\n",
    "errors = (y_pred != y_true).sum() # Total number of errors is calculated.\n",
    "errors"
   ]
  },
  {
   "cell_type": "code",
   "execution_count": 20,
   "id": "c1737173",
   "metadata": {},
   "outputs": [
    {
     "name": "stdout",
     "output_type": "stream",
     "text": [
      "              precision    recall  f1-score   support\n",
      "\n",
      "         0.0       0.98      1.00      0.99    141935\n",
      "         1.0       0.49      0.05      0.09      2810\n",
      "\n",
      "    accuracy                           0.98    144745\n",
      "   macro avg       0.74      0.52      0.54    144745\n",
      "weighted avg       0.97      0.98      0.97    144745\n",
      "\n"
     ]
    }
   ],
   "source": [
    "print(classification_report(y_pred,y_true))"
   ]
  },
  {
   "cell_type": "code",
   "execution_count": 21,
   "id": "a83a2869",
   "metadata": {},
   "outputs": [
    {
     "data": {
      "text/plain": [
       "array([[141792,   2672],\n",
       "       [   143,    138]])"
      ]
     },
     "execution_count": 21,
     "metadata": {},
     "output_type": "execute_result"
    }
   ],
   "source": [
    "from sklearn.metrics import confusion_matrix\n",
    "confusion_matrix(y_true, y_pred)"
   ]
  },
  {
   "cell_type": "code",
   "execution_count": 22,
   "id": "7b762044",
   "metadata": {},
   "outputs": [
    {
     "data": {
      "text/plain": [
       "281.0"
      ]
     },
     "execution_count": 22,
     "metadata": {},
     "output_type": "execute_result"
    }
   ],
   "source": [
    "sum(y_true)"
   ]
  },
  {
   "cell_type": "code",
   "execution_count": 23,
   "id": "ae12d7c3",
   "metadata": {},
   "outputs": [],
   "source": [
    "y_true =[]\n",
    "y_pred = np.array([])\n",
    "for i in range(24):\n",
    "    clf = LocalOutlierFactor(n_neighbors=5, \n",
    "                             algorithm='auto', \n",
    "                             leaf_size=30, \n",
    "                             metric='minkowski',\n",
    "                             p=2,\n",
    "                             metric_params=None,\n",
    "                             contamination=max(rate[i+24],0.0001)*10)\n",
    "    X, y = get_hour_data(df, i+24)\n",
    "    y_true = np.concatenate((y_true, y), axis=None)\n",
    "    y_pred_temp = clf.fit_predict(X)    \n",
    "    y_pred = np.concatenate((y_pred, y_pred_temp), axis=None)"
   ]
  },
  {
   "cell_type": "code",
   "execution_count": 24,
   "id": "7e6d8e17",
   "metadata": {},
   "outputs": [
    {
     "name": "stdout",
     "output_type": "stream",
     "text": [
      "2154\n"
     ]
    }
   ],
   "source": [
    "y_pred[y_pred == 1] = 0 # Valid transactions are labelled as 0.\n",
    "y_pred[y_pred == -1] = 1 # Fraudulent transactions are labelled as 1.\n",
    "errors1 = (y_pred != y_true).sum() # Total number of errors is calculated.\n",
    "print(errors1)"
   ]
  },
  {
   "cell_type": "code",
   "execution_count": 25,
   "id": "449cb467",
   "metadata": {},
   "outputs": [
    {
     "data": {
      "text/plain": [
       "array([[137753,   2029],\n",
       "       [   125,     86]])"
      ]
     },
     "execution_count": 25,
     "metadata": {},
     "output_type": "execute_result"
    }
   ],
   "source": [
    "confusion_matrix(y_true, y_pred)"
   ]
  },
  {
   "cell_type": "code",
   "execution_count": 26,
   "id": "9fe5602f",
   "metadata": {},
   "outputs": [
    {
     "name": "stdout",
     "output_type": "stream",
     "text": [
      "              precision    recall  f1-score   support\n",
      "\n",
      "         0.0       0.99      1.00      0.99    137878\n",
      "         1.0       0.41      0.04      0.07      2115\n",
      "\n",
      "    accuracy                           0.98    139993\n",
      "   macro avg       0.70      0.52      0.53    139993\n",
      "weighted avg       0.98      0.98      0.98    139993\n",
      "\n"
     ]
    }
   ],
   "source": [
    "print(classification_report(y_pred,y_true))"
   ]
  },
  {
   "cell_type": "markdown",
   "id": "4ac96aea",
   "metadata": {},
   "source": [
    "## Gaussian Distribution"
   ]
  },
  {
   "cell_type": "markdown",
   "id": "19d33abc",
   "metadata": {},
   "source": [
    "#### We will be using a gaussin mixture model to find the anomalies"
   ]
  },
  {
   "cell_type": "code",
   "execution_count": 27,
   "id": "e948347e",
   "metadata": {},
   "outputs": [
    {
     "data": {
      "image/png": "[encoded data removed]",
      "text/plain": [
       "<Figure size 1440x1440 with 36 Axes>"
      ]
     },
     "metadata": {
      "needs_background": "light"
     },
     "output_type": "display_data"
    }
   ],
   "source": [
    "hist = df.hist(bins=100, figsize = (20,20))"
   ]
  },
  {
   "cell_type": "markdown",
   "id": "7d556311",
   "metadata": {},
   "source": [
    "From the graphs above we will chose the parameter that look the most like a gaussian distribution"
   ]
  },
  {
   "cell_type": "code",
   "execution_count": 28,
   "id": "7c4bba83",
   "metadata": {},
   "outputs": [],
   "source": [
    "features = [\"V9\",\"V11\",\"V13\",\"V15\",\"V18\",\"V19\",\"V14\",\"Class\"]\n",
    "df_features = df[features]"
   ]
  },
  {
   "cell_type": "markdown",
   "id": "83605a1f",
   "metadata": {},
   "source": [
    "We find the meand and covariance matrix of each feature our dataset and apply them to create a multivariate gaussian distribution"
   ]
  },
  {
   "cell_type": "code",
   "execution_count": 29,
   "id": "bdea8f2f",
   "metadata": {},
   "outputs": [],
   "source": [
    "def estimateGaussian(dataset):\n",
    "    mu = np.mean(dataset, axis=0)\n",
    "    sigma = np.cov(dataset.T)\n",
    "   \n",
    "    return mu, sigma\n",
    "\n",
    "def multivariateGaussian(dataset,mu,sigma):\n",
    "    p = multivariate_normal(mean=mu, cov=sigma)\n",
    "    return p.pdf(dataset)"
   ]
  },
  {
   "cell_type": "markdown",
   "id": "2fcf25ed",
   "metadata": {},
   "source": [
    "For our algorithm to work we will need to find the distribution of our dataset and compare the outlier to a p-value or epsilon"
   ]
  },
  {
   "cell_type": "markdown",
   "id": "d01fe045",
   "metadata": {},
   "source": [
    "Because our data is a little bit unusal having only 492 anomaly we can improve our score by spltting the dataset manually note that this has nothing to do with the detection it's just for splitting purposes "
   ]
  },
  {
   "cell_type": "code",
   "execution_count": 30,
   "id": "3619af7b",
   "metadata": {},
   "outputs": [],
   "source": [
    "train_df = df[features]"
   ]
  },
  {
   "cell_type": "code",
   "execution_count": 31,
   "id": "00177bed",
   "metadata": {},
   "outputs": [],
   "source": [
    "train_strip_v1 = train_df[train_df[\"Class\"] == 1]\n",
    "train_strip_v0 = train_df[train_df[\"Class\"] == 0]"
   ]
  },
  {
   "cell_type": "code",
   "execution_count": 32,
   "id": "b92a8449",
   "metadata": {},
   "outputs": [
    {
     "name": "stdout",
     "output_type": "stream",
     "text": [
      "['V9' 'V11' 'V13' 'V15' 'V18' 'V19' 'V14' 'Class']\n",
      "['V9' 'V11' 'V13' 'V15' 'V18' 'V19' 'V14' 'Class']\n",
      "['V9' 'V11' 'V13' 'V15' 'V18' 'V19' 'V14' 'Class']\n"
     ]
    },
    {
     "name": "stderr",
     "output_type": "stream",
     "text": [
      "/tmp/ipykernel_57171/2383900632.py:32: SettingWithCopyWarning: \n",
      "A value is trying to be set on a copy of a slice from a DataFrame\n",
      "\n",
      "See the caveats in the documentation: https://pandas.pydata.org/pandas-docs/stable/user_guide/indexing.html#returning-a-view-versus-a-copy\n",
      "  train_fraud.drop(labels = [\"Class\"], axis = 1, inplace = True)\n"
     ]
    }
   ],
   "source": [
    "Normal_len = len (train_strip_v0)\n",
    "Anomolous_len = len (train_strip_v1)\n",
    "\n",
    "start_mid = Anomolous_len // 2\n",
    "start_midway = start_mid + 1\n",
    "\n",
    "train_cv_v1  = train_strip_v1 [: start_mid]\n",
    "train_test_v1 = train_strip_v1 [start_midway:Anomolous_len]\n",
    "\n",
    "start_mid = (Normal_len * 60) // 100\n",
    "start_midway = start_mid + 1\n",
    "\n",
    "cv_mid = (Normal_len * 80) // 100\n",
    "cv_midway = cv_mid + 1\n",
    "\n",
    "# Assuming the fact that we have 1% of anomalie there is a small chance that our train will contain some\n",
    "train_fraud = train_strip_v0 [:start_mid] \n",
    "train_cv    = train_strip_v0 [start_midway:cv_mid]\n",
    "train_test  = train_strip_v0 [cv_midway:Normal_len]\n",
    "\n",
    "train_cv = pd.concat([train_cv,train_cv_v1],axis=0)\n",
    "train_test = pd.concat([train_test,train_test_v1],axis=0)\n",
    "\n",
    "train_cv_y = train_cv[\"Class\"]\n",
    "train_test_y = train_test[\"Class\"]\n",
    "\n",
    "train_cv.drop(labels = [\"Class\"], axis = 1, inplace = True)\n",
    "train_fraud.drop(labels = [\"Class\"], axis = 1, inplace = True)\n",
    "train_test.drop(labels = [\"Class\"], axis = 1, inplace = True)"
   ]
  },
  {
   "cell_type": "markdown",
   "id": "6d353dbc",
   "metadata": {},
   "source": [
    "Now that we have crooss_validation train and test dataset let's find the anomalies using the gaussian distribution"
   ]
  },
  {
   "cell_type": "code",
   "execution_count": 33,
   "id": "ddf1d29d",
   "metadata": {},
   "outputs": [],
   "source": [
    "mu, sigma = estimateGaussian(train_fraud)\n",
    "p = multivariateGaussian(train_fraud,mu,sigma)\n",
    "p_cv = multivariateGaussian(train_cv,mu,sigma)\n",
    "p_test = multivariateGaussian(train_test,mu,sigma)"
   ]
  },
  {
   "cell_type": "code",
   "execution_count": 34,
   "id": "260b5eeb",
   "metadata": {},
   "outputs": [
    {
     "data": {
      "text/plain": [
       "array([[ 1.29719298e+00,  4.05340209e-02,  7.69218689e-02,\n",
       "        -1.46945118e-01, -1.12721828e-02,  7.70082279e-03,\n",
       "         5.00171401e-02],\n",
       "       [ 4.05340209e-02,  1.04649783e+00,  2.24316296e-02,\n",
       "        -3.13130238e-02,  1.87366124e-02, -5.01678441e-02,\n",
       "         1.11456507e-01],\n",
       "       [ 7.69218689e-02,  2.24316296e-02,  1.09850615e+00,\n",
       "        -6.35795710e-02,  3.65368414e-02, -1.06738870e-03,\n",
       "         9.57856141e-02],\n",
       "       [-1.46945118e-01, -3.13130238e-02, -6.35795710e-02,\n",
       "         9.02723005e-01, -1.35115576e-03, -2.20080046e-02,\n",
       "        -1.44684389e-02],\n",
       "       [-1.12721828e-02,  1.87366124e-02,  3.65368414e-02,\n",
       "        -1.35115576e-03,  6.62776075e-01,  3.10169102e-02,\n",
       "         2.46978101e-02],\n",
       "       [ 7.70082279e-03, -5.01678441e-02, -1.06738870e-03,\n",
       "        -2.20080046e-02,  3.10169102e-02,  6.55229189e-01,\n",
       "        -4.64306406e-03],\n",
       "       [ 5.00171401e-02,  1.11456507e-01,  9.57856141e-02,\n",
       "        -1.44684389e-02,  2.46978101e-02, -4.64306406e-03,\n",
       "         8.03659115e-01]])"
      ]
     },
     "execution_count": 34,
     "metadata": {},
     "output_type": "execute_result"
    }
   ],
   "source": [
    "sigma"
   ]
  },
  {
   "cell_type": "markdown",
   "id": "44e66931",
   "metadata": {},
   "source": [
    "select the best threshold to find the outlier based on the notion of p value, value lower then this epsilon value is concidered as outlier using the cv validation set"
   ]
  },
  {
   "cell_type": "code",
   "execution_count": 35,
   "id": "53065e31",
   "metadata": {},
   "outputs": [],
   "source": [
    "def selectThresholdByCV(probs,gt):\n",
    "    best_epsilon = 0\n",
    "    best_f1 = 0\n",
    "    f = 0\n",
    "    farray = []\n",
    "    Recallarray = []\n",
    "    Precisionarray = []\n",
    "    epsilons = (0.0000e+00, 1.0527717316e-70, 1.0527717316e-50, 1.0527717316e-24)\n",
    "    #epsilons = np.asarray(epsilons)\n",
    "    for epsilon in epsilons:\n",
    "        predictions = (p_cv < epsilon)\n",
    "        f = f1_score(train_cv_y, predictions, average = \"binary\")\n",
    "        Recall = recall_score(train_cv_y, predictions, average = \"binary\")\n",
    "        Precision = precision_score(train_cv_y, predictions, average = \"binary\")\n",
    "        farray.append(f)\n",
    "        Recallarray.append(Recall)\n",
    "        Precisionarray.append(Precision)\n",
    "        print ('For below Epsilon')\n",
    "        print(epsilon)\n",
    "        print ('F1 score , Recall and Precision are as below')\n",
    "        print ('Best F1 Score %f' %f)\n",
    "        print ('Best Recall Score %f' %Recall)\n",
    "        print ('Best Precision Score %f' %Precision)\n",
    "        print ('-'*40)\n",
    "        if f > best_f1:\n",
    "            best_f1 = f\n",
    "            best_recall = Recall\n",
    "            best_precision = Precision\n",
    "            best_epsilon = epsilon    \n",
    "    \n",
    "    return best_f1, best_epsilon"
   ]
  },
  {
   "cell_type": "code",
   "execution_count": 36,
   "id": "d4ce09a8",
   "metadata": {},
   "outputs": [
    {
     "name": "stderr",
     "output_type": "stream",
     "text": [
      "/home/patrick/miniconda3/envs/ts/lib/python3.9/site-packages/sklearn/metrics/_classification.py:1327: UndefinedMetricWarning: Precision is ill-defined and being set to 0.0 due to no predicted samples. Use `zero_division` parameter to control this behavior.\n",
      "  _warn_prf(average, modifier, msg_start, len(result))\n"
     ]
    },
    {
     "name": "stdout",
     "output_type": "stream",
     "text": [
      "For below Epsilon\n",
      "0.0\n",
      "F1 score , Recall and Precision are as below\n",
      "Best F1 Score 0.000000\n",
      "Best Recall Score 0.000000\n",
      "Best Precision Score 0.000000\n",
      "----------------------------------------\n",
      "For below Epsilon\n",
      "1.0527717316e-70\n",
      "F1 score , Recall and Precision are as below\n",
      "Best F1 Score 0.309278\n",
      "Best Recall Score 0.182927\n",
      "Best Precision Score 1.000000\n",
      "----------------------------------------\n",
      "For below Epsilon\n",
      "1.0527717316e-50\n",
      "F1 score , Recall and Precision are as below\n",
      "Best F1 Score 0.397394\n",
      "Best Recall Score 0.247967\n",
      "Best Precision Score 1.000000\n",
      "----------------------------------------\n",
      "For below Epsilon\n",
      "1.0527717316e-24\n",
      "F1 score , Recall and Precision are as below\n",
      "Best F1 Score 0.663484\n",
      "Best Recall Score 0.565041\n",
      "Best Precision Score 0.803468\n",
      "----------------------------------------\n"
     ]
    }
   ],
   "source": [
    "f_1,ep = selectThresholdByCV(p_cv,train_cv_y)"
   ]
  },
  {
   "cell_type": "markdown",
   "id": "3de60923",
   "metadata": {},
   "source": [
    "### Our best score\n",
    "* F1 = 0.66\n",
    "* Recall = 0.56\n",
    "* Precision = 0.8\n",
    "* eps = 1.0527717316e-24"
   ]
  },
  {
   "cell_type": "markdown",
   "id": "69ecd271",
   "metadata": {},
   "source": [
    "We can test this on our test data"
   ]
  },
  {
   "cell_type": "code",
   "execution_count": 53,
   "id": "65cb869b",
   "metadata": {},
   "outputs": [
    {
     "name": "stdout",
     "output_type": "stream",
     "text": [
      "F1 Score (test) = 0.6321243523316062\n",
      "Recall Score (test) = 0.49795918367346936\n",
      "Precision Score (test) = 0.8652482269503546\n"
     ]
    }
   ],
   "source": [
    "pred = (p_test < ep)\n",
    "\n",
    "f = f1_score(train_test_y, pred, average = \"binary\")\n",
    "Recall = recall_score(train_test_y, pred, average = \"binary\")\n",
    "Precision = precision_score(train_test_y, pred, average = \"binary\")\n",
    "\n",
    "print(r'F1 Score (test) = {}'.format(f))\n",
    "print(r'Recall Score (test) = {}'.format(Recall))\n",
    "print(r'Precision Score (test) = {}'.format(Precision))"
   ]
  },
  {
   "cell_type": "markdown",
   "id": "4bf8b6e8",
   "metadata": {},
   "source": [
    "The reason behind this somewhat innacurate result is that first, our balanced is really umbalanced the amount of anomalies is less than 1% which can impact the result a lot\n",
    "\n",
    "The second reason is that our distribution is based on the data as a whole and the unusual data point found in our dataset, but maybe one of the value is an anomalie based on the previous one(s) \n",
    "\n",
    "But this doesn't remove the fact that the gaussian anomalie detection is still a good method for our dataset for the same reason as small anomalie, because by definition is an unusual data point which can be well defined using a Gaussian distribution and ⁻value comapraison"
   ]
  },
  {
   "cell_type": "code",
   "execution_count": null,
   "id": "837639db",
   "metadata": {},
   "outputs": [],
   "source": []
  },
  {
   "cell_type": "code",
   "execution_count": null,
   "id": "6c2b6795",
   "metadata": {},
   "outputs": [],
   "source": []
  }
 ],
 "metadata": {
  "kernelspec": {
   "display_name": "Python 3 (ipykernel)",
   "language": "python",
   "name": "python3"
  },
  "language_info": {
   "codemirror_mode": {
    "name": "ipython",
    "version": 3
   },
   "file_extension": ".py",
   "mimetype": "text/x-python",
   "name": "python",
   "nbconvert_exporter": "python",
   "pygments_lexer": "ipython3",
   "version": "3.9.12"
  },
  "papermill": {
   "default_parameters": {},
   "duration": 189.541266,
   "end_time": "2022-06-11T13:40:56.811401",
   "environment_variables": {},
   "exception": null,
   "input_path": "__notebook__.ipynb",
   "output_path": "__notebook__.ipynb",
   "parameters": {},
   "start_time": "2022-06-11T13:37:47.270135",
   "version": "2.3.4"
  }
 },
 "nbformat": 4,
 "nbformat_minor": 5
}
